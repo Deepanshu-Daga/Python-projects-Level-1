{
 "cells": [
  {
   "cell_type": "markdown",
   "id": "1ff42b8e",
   "metadata": {},
   "source": [
    "# REAL TIME DATA CREATION AND POWER BI LIVE DATA STREAMING\n",
    "## ways to push data in power bi dataset for analytics\n",
    "### power bi rest api + python code\n",
    "### streaming dataset ui\n",
    "### azure stream analytics"
   ]
  },
  {
   "cell_type": "markdown",
   "id": "2eb739ba",
   "metadata": {},
   "source": [
    "__What is Isoformat Python?\n",
    "The Isoformat() function is used to return a string of date, \n",
    "time, and UTC offset to the corresponding time zone in ISO 8601 format\n",
    "\n",
    "__The strftime ?\n",
    "The strftime() function is used to convert date and time objects to their string representation.\n",
    "It takes one or more input of formatted code and returns the string representation__"
   ]
  },
  {
   "cell_type": "markdown",
   "id": "924a3c33",
   "metadata": {},
   "source": [
    "__What is the purpose of bytes () in Python?\n",
    "Python byte() function converts an object to an immutable byte-represented object of given size and data__"
   ]
  },
  {
   "cell_type": "markdown",
   "id": "04cdcc5d",
   "metadata": {},
   "source": [
    "[use of __name__ very imp  in modular coding](https://www.geeksforgeeks.org/__name__-special-variable-python/?ref=lbp)"
   ]
  },
  {
   "cell_type": "markdown",
   "id": "9c2cbe3a",
   "metadata": {},
   "source": [
    "__Since there is no main() function in Python, when the command to run a python program is given to the interpreter, \n",
    "the code that is at level 0 indentation is to be executed. However, before doing that, it will define a few special \n",
    "variables. __name__ is one such special variable. If the source file is executed as the main program, the interpreter \n",
    "sets the __name__ variable to have a value “__main__”. If this file is being imported from another module, __name__\n",
    "will be set to the module’s name.__name__ is a built-in variable which evaluates to the name of the current module.\n",
    "Thus it can be used to check whether the current script is being run on its own or being imported somewhere else by \n",
    "combining it with if statement, as shown below__"
   ]
  },
  {
   "cell_type": "code",
   "execution_count": 15,
   "id": "5b7b8350",
   "metadata": {
    "scrolled": true
   },
   "outputs": [
    {
     "name": "stdout",
     "output_type": "stream",
     "text": [
      "Always executed\n",
      "Executed when invoked directly\n"
     ]
    }
   ],
   "source": [
    "# Python program to execute\n",
    "# main directly\n",
    "print (\"Always executed\")\n",
    " \n",
    "if __name__ == \"__main__\":\n",
    "    print (\"Executed when invoked directly\")\n",
    "else:\n",
    "    print (\"Executed when imported\")"
   ]
  },
  {
   "cell_type": "markdown",
   "id": "a7531aa3",
   "metadata": {},
   "source": [
    "# step 1 creating of random values for real time feed\n"
   ]
  },
  {
   "cell_type": "code",
   "execution_count": null,
   "id": "91bf60e6",
   "metadata": {},
   "outputs": [],
   "source": []
  },
  {
   "cell_type": "code",
   "execution_count": null,
   "id": "cedef382",
   "metadata": {},
   "outputs": [
    {
     "name": "stdout",
     "output_type": "stream",
     "text": [
      "json_dataset [{\"surr_id\":1,\"speed\":6,\"date\":\"22-02-23\",\"time\":\"2022-02-23T03:47:07.170062\"}]\n",
      "Data posted in POWER BI\n",
      "json_dataset [{\"surr_id\":3,\"speed\":4,\"date\":\"22-02-23\",\"time\":\"2022-02-23T03:47:08.660052\"}]\n",
      "Data posted in POWER BI\n",
      "json_dataset [{\"surr_id\":3,\"speed\":20,\"date\":\"22-02-23\",\"time\":\"2022-02-23T03:47:09.143968\"}]\n",
      "Data posted in POWER BI\n",
      "json_dataset [{\"surr_id\":1,\"speed\":9,\"date\":\"22-02-23\",\"time\":\"2022-02-23T03:47:09.599644\"}]\n",
      "Data posted in POWER BI\n",
      "json_dataset [{\"surr_id\":3,\"speed\":7,\"date\":\"22-02-23\",\"time\":\"2022-02-23T03:47:10.070645\"}]\n",
      "Data posted in POWER BI\n",
      "json_dataset [{\"surr_id\":3,\"speed\":10,\"date\":\"22-02-23\",\"time\":\"2022-02-23T03:47:10.594767\"}]\n",
      "Data posted in POWER BI\n",
      "json_dataset [{\"surr_id\":1,\"speed\":1,\"date\":\"22-02-23\",\"time\":\"2022-02-23T03:47:11.036093\"}]\n",
      "Data posted in POWER BI\n",
      "json_dataset [{\"surr_id\":3,\"speed\":12,\"date\":\"22-02-23\",\"time\":\"2022-02-23T03:47:11.505266\"}]\n",
      "Data posted in POWER BI\n",
      "json_dataset [{\"surr_id\":1,\"speed\":10,\"date\":\"22-02-23\",\"time\":\"2022-02-23T03:47:11.967611\"}]\n",
      "Data posted in POWER BI\n",
      "json_dataset [{\"surr_id\":1,\"speed\":9,\"date\":\"22-02-23\",\"time\":\"2022-02-23T03:47:12.482643\"}]\n",
      "Data posted in POWER BI\n",
      "json_dataset [{\"surr_id\":3,\"speed\":19,\"date\":\"22-02-23\",\"time\":\"2022-02-23T03:47:12.727661\"}]\n",
      "Data posted in POWER BI\n",
      "json_dataset [{\"surr_id\":1,\"speed\":17,\"date\":\"22-02-23\",\"time\":\"2022-02-23T03:47:13.163694\"}]\n",
      "Data posted in POWER BI\n",
      "json_dataset [{\"surr_id\":3,\"speed\":14,\"date\":\"22-02-23\",\"time\":\"2022-02-23T03:47:13.397714\"}]\n",
      "Data posted in POWER BI\n",
      "json_dataset [{\"surr_id\":2,\"speed\":3,\"date\":\"22-02-23\",\"time\":\"2022-02-23T03:47:13.627729\"}]\n",
      "Data posted in POWER BI\n",
      "json_dataset [{\"surr_id\":2,\"speed\":18,\"date\":\"22-02-23\",\"time\":\"2022-02-23T03:47:13.865747\"}]\n",
      "Data posted in POWER BI\n",
      "json_dataset [{\"surr_id\":3,\"speed\":8,\"date\":\"22-02-23\",\"time\":\"2022-02-23T03:47:14.098764\"}]\n",
      "Data posted in POWER BI\n",
      "json_dataset [{\"surr_id\":1,\"speed\":10,\"date\":\"22-02-23\",\"time\":\"2022-02-23T03:47:14.361388\"}]\n",
      "Data posted in POWER BI\n",
      "json_dataset [{\"surr_id\":2,\"speed\":20,\"date\":\"22-02-23\",\"time\":\"2022-02-23T03:47:14.595400\"}]\n",
      "Data posted in POWER BI\n",
      "json_dataset [{\"surr_id\":1,\"speed\":4,\"date\":\"22-02-23\",\"time\":\"2022-02-23T03:47:14.837420\"}]\n",
      "Data posted in POWER BI\n",
      "json_dataset [{\"surr_id\":3,\"speed\":1,\"date\":\"22-02-23\",\"time\":\"2022-02-23T03:47:15.145167\"}]\n",
      "Data posted in POWER BI\n",
      "json_dataset [{\"surr_id\":3,\"speed\":1,\"date\":\"22-02-23\",\"time\":\"2022-02-23T03:47:15.492200\"}]\n",
      "Data posted in POWER BI\n",
      "json_dataset [{\"surr_id\":3,\"speed\":11,\"date\":\"22-02-23\",\"time\":\"2022-02-23T03:47:15.796230\"}]\n",
      "Data posted in POWER BI\n",
      "json_dataset [{\"surr_id\":1,\"speed\":20,\"date\":\"22-02-23\",\"time\":\"2022-02-23T03:47:16.032247\"}]\n",
      "Data posted in POWER BI\n",
      "json_dataset [{\"surr_id\":3,\"speed\":17,\"date\":\"22-02-23\",\"time\":\"2022-02-23T03:47:16.295266\"}]\n",
      "Data posted in POWER BI\n",
      "json_dataset [{\"surr_id\":3,\"speed\":1,\"date\":\"22-02-23\",\"time\":\"2022-02-23T03:47:16.527284\"}]\n",
      "Data posted in POWER BI\n",
      "json_dataset [{\"surr_id\":1,\"speed\":17,\"date\":\"22-02-23\",\"time\":\"2022-02-23T03:47:16.830306\"}]\n",
      "Data posted in POWER BI\n",
      "json_dataset [{\"surr_id\":1,\"speed\":6,\"date\":\"22-02-23\",\"time\":\"2022-02-23T03:47:17.128328\"}]\n",
      "Data posted in POWER BI\n",
      "json_dataset [{\"surr_id\":3,\"speed\":3,\"date\":\"22-02-23\",\"time\":\"2022-02-23T03:47:17.358346\"}]\n",
      "Data posted in POWER BI\n",
      "json_dataset [{\"surr_id\":1,\"speed\":9,\"date\":\"22-02-23\",\"time\":\"2022-02-23T03:47:17.603366\"}]\n",
      "Data posted in POWER BI\n",
      "json_dataset [{\"surr_id\":1,\"speed\":14,\"date\":\"22-02-23\",\"time\":\"2022-02-23T03:47:17.865418\"}]\n",
      "Data posted in POWER BI\n",
      "json_dataset [{\"surr_id\":3,\"speed\":2,\"date\":\"22-02-23\",\"time\":\"2022-02-23T03:47:18.118436\"}]\n",
      "Data posted in POWER BI\n",
      "json_dataset [{\"surr_id\":3,\"speed\":4,\"date\":\"22-02-23\",\"time\":\"2022-02-23T03:47:18.351667\"}]\n",
      "Data posted in POWER BI\n",
      "json_dataset [{\"surr_id\":2,\"speed\":13,\"date\":\"22-02-23\",\"time\":\"2022-02-23T03:47:18.635686\"}]\n",
      "Data posted in POWER BI\n",
      "json_dataset [{\"surr_id\":3,\"speed\":19,\"date\":\"22-02-23\",\"time\":\"2022-02-23T03:47:18.965872\"}]\n",
      "Data posted in POWER BI\n",
      "json_dataset [{\"surr_id\":2,\"speed\":16,\"date\":\"22-02-23\",\"time\":\"2022-02-23T03:47:19.198997\"}]\n",
      "Data posted in POWER BI\n",
      "json_dataset [{\"surr_id\":1,\"speed\":7,\"date\":\"22-02-23\",\"time\":\"2022-02-23T03:47:19.454070\"}]\n",
      "Data posted in POWER BI\n",
      "json_dataset [{\"surr_id\":2,\"speed\":20,\"date\":\"22-02-23\",\"time\":\"2022-02-23T03:47:19.748482\"}]\n",
      "Data posted in POWER BI\n",
      "json_dataset [{\"surr_id\":3,\"speed\":19,\"date\":\"22-02-23\",\"time\":\"2022-02-23T03:47:19.994498\"}]\n",
      "Data posted in POWER BI\n",
      "json_dataset [{\"surr_id\":1,\"speed\":3,\"date\":\"22-02-23\",\"time\":\"2022-02-23T03:47:20.295518\"}]\n",
      "Data posted in POWER BI\n",
      "json_dataset [{\"surr_id\":2,\"speed\":9,\"date\":\"22-02-23\",\"time\":\"2022-02-23T03:47:20.602543\"}]\n",
      "Data posted in POWER BI\n",
      "json_dataset [{\"surr_id\":1,\"speed\":7,\"date\":\"22-02-23\",\"time\":\"2022-02-23T03:47:20.842561\"}]\n",
      "Data posted in POWER BI\n",
      "json_dataset [{\"surr_id\":1,\"speed\":4,\"date\":\"22-02-23\",\"time\":\"2022-02-23T03:47:21.071578\"}]\n",
      "Data posted in POWER BI\n",
      "json_dataset [{\"surr_id\":2,\"speed\":4,\"date\":\"22-02-23\",\"time\":\"2022-02-23T03:47:21.311596\"}]\n",
      "Data posted in POWER BI\n",
      "json_dataset [{\"surr_id\":3,\"speed\":19,\"date\":\"22-02-23\",\"time\":\"2022-02-23T03:47:21.565614\"}]\n",
      "Data posted in POWER BI\n",
      "json_dataset [{\"surr_id\":3,\"speed\":8,\"date\":\"22-02-23\",\"time\":\"2022-02-23T03:47:21.853640\"}]\n",
      "Data posted in POWER BI\n",
      "json_dataset [{\"surr_id\":3,\"speed\":2,\"date\":\"22-02-23\",\"time\":\"2022-02-23T03:47:22.087653\"}]\n",
      "Data posted in POWER BI\n",
      "json_dataset [{\"surr_id\":2,\"speed\":3,\"date\":\"22-02-23\",\"time\":\"2022-02-23T03:47:22.317671\"}]\n",
      "Data posted in POWER BI\n",
      "json_dataset [{\"surr_id\":1,\"speed\":19,\"date\":\"22-02-23\",\"time\":\"2022-02-23T03:47:22.625698\"}]\n",
      "Data posted in POWER BI\n",
      "json_dataset [{\"surr_id\":2,\"speed\":20,\"date\":\"22-02-23\",\"time\":\"2022-02-23T03:47:22.917718\"}]\n",
      "Data posted in POWER BI\n",
      "json_dataset [{\"surr_id\":1,\"speed\":17,\"date\":\"22-02-23\",\"time\":\"2022-02-23T03:47:23.178741\"}]\n",
      "Data posted in POWER BI\n",
      "json_dataset [{\"surr_id\":3,\"speed\":14,\"date\":\"22-02-23\",\"time\":\"2022-02-23T03:47:23.415267\"}]\n",
      "Data posted in POWER BI\n",
      "json_dataset [{\"surr_id\":3,\"speed\":10,\"date\":\"22-02-23\",\"time\":\"2022-02-23T03:47:23.679148\"}]\n",
      "Data posted in POWER BI\n",
      "json_dataset [{\"surr_id\":2,\"speed\":6,\"date\":\"22-02-23\",\"time\":\"2022-02-23T03:47:23.934867\"}]\n",
      "Data posted in POWER BI\n",
      "json_dataset [{\"surr_id\":2,\"speed\":1,\"date\":\"22-02-23\",\"time\":\"2022-02-23T03:47:24.186248\"}]\n",
      "Data posted in POWER BI\n",
      "json_dataset [{\"surr_id\":1,\"speed\":11,\"date\":\"22-02-23\",\"time\":\"2022-02-23T03:47:24.432285\"}]\n",
      "Data posted in POWER BI\n",
      "json_dataset [{\"surr_id\":1,\"speed\":7,\"date\":\"22-02-23\",\"time\":\"2022-02-23T03:47:24.669302\"}]\n",
      "Data posted in POWER BI\n",
      "json_dataset [{\"surr_id\":1,\"speed\":5,\"date\":\"22-02-23\",\"time\":\"2022-02-23T03:47:24.922572\"}]\n",
      "Data posted in POWER BI\n",
      "json_dataset [{\"surr_id\":3,\"speed\":10,\"date\":\"22-02-23\",\"time\":\"2022-02-23T03:47:25.237949\"}]\n",
      "Data posted in POWER BI\n",
      "json_dataset [{\"surr_id\":1,\"speed\":10,\"date\":\"22-02-23\",\"time\":\"2022-02-23T03:47:25.472701\"}]\n",
      "Data posted in POWER BI\n",
      "json_dataset [{\"surr_id\":2,\"speed\":13,\"date\":\"22-02-23\",\"time\":\"2022-02-23T03:47:25.728164\"}]\n",
      "Data posted in POWER BI\n",
      "json_dataset [{\"surr_id\":1,\"speed\":9,\"date\":\"22-02-23\",\"time\":\"2022-02-23T03:47:26.041346\"}]\n",
      "Data posted in POWER BI\n",
      "json_dataset [{\"surr_id\":3,\"speed\":20,\"date\":\"22-02-23\",\"time\":\"2022-02-23T03:47:26.286154\"}]\n",
      "Data posted in POWER BI\n",
      "json_dataset [{\"surr_id\":2,\"speed\":10,\"date\":\"22-02-23\",\"time\":\"2022-02-23T03:47:26.537173\"}]\n",
      "Data posted in POWER BI\n",
      "json_dataset [{\"surr_id\":3,\"speed\":10,\"date\":\"22-02-23\",\"time\":\"2022-02-23T03:47:26.784202\"}]\n",
      "Data posted in POWER BI\n",
      "json_dataset [{\"surr_id\":2,\"speed\":11,\"date\":\"22-02-23\",\"time\":\"2022-02-23T03:47:27.095280\"}]\n",
      "Data posted in POWER BI\n",
      "json_dataset [{\"surr_id\":3,\"speed\":6,\"date\":\"22-02-23\",\"time\":\"2022-02-23T03:47:27.343757\"}]\n",
      "Data posted in POWER BI\n",
      "json_dataset [{\"surr_id\":3,\"speed\":2,\"date\":\"22-02-23\",\"time\":\"2022-02-23T03:47:27.615922\"}]\n",
      "Data posted in POWER BI\n",
      "json_dataset [{\"surr_id\":1,\"speed\":1,\"date\":\"22-02-23\",\"time\":\"2022-02-23T03:47:27.875614\"}]\n"
     ]
    }
   ],
   "source": [
    "import pandas as pd\n",
    "from datetime import datetime\n",
    "import random\n",
    "import requests\n",
    "\n",
    "# class for data generation\n",
    "def data_generation():\n",
    "    surr_id = random.randint(1,3)\n",
    "    speed = random.randint(1,20)\n",
    "    date = datetime.today().strftime(\"%y-%m-%d\")\n",
    "    time = datetime.now().isoformat()                                   \n",
    "    return [surr_id, speed , date , time]\n",
    "\n",
    "#data_generation()                       # to check output of random fx\n",
    "\n",
    "# main fx\n",
    "if __name__ == '__main__' :\n",
    "    REST_API_POWERBI_URL = 'https://api.powerbi.com/beta/8b9cbe7f-c54b-4e7b-9854-da52eaddd49b/datasets/1e513046-e96b-48d9-888f-a9c021d15d06/rows?key=Xs20WTgh9GB2%2FXJO16EQYx22wDjfJsPXlT7AFUuVY9%2FfUqD%2FVXFqc7egKbGLXEj8R%2F5PWq7C%2FiaqZ28EBOHkgg%3D%3D'\n",
    "   \n",
    "    while True:\n",
    "        data_raw = []\n",
    "        for i in range(1):\n",
    "            row = data_generation()\n",
    "            data_raw.append(row)\n",
    "            #print(\"RAW_DATA-\" , data_raw )       # to check raw data\n",
    "\n",
    "\n",
    "        # header record\n",
    "        header = [\"surr_id\",\"speed\",\"date\",\"time\"]\n",
    "        data_df = pd.DataFrame( data_raw , columns= header )\n",
    "        data_json = data_df.to_json(orient=\"records\")\n",
    "\n",
    "        print(\"json_dataset\" , data_json)\n",
    "\n",
    "        # posting data in power bi api\n",
    "\n",
    "        res = requests.post( REST_API_POWERBI_URL   , data_json )\n",
    "        print (\"Data posted in POWER BI\")\n"
   ]
  },
  {
   "cell_type": "code",
   "execution_count": null,
   "id": "891209a8",
   "metadata": {},
   "outputs": [],
   "source": []
  },
  {
   "cell_type": "markdown",
   "id": "6631bffe",
   "metadata": {},
   "source": [
    "#step 2 \n",
    "__push api is created in power bi__\n",
    "\n",
    "__creating api from power bi.com that we will assigning in the code and \n",
    "along with it we will infest data into it that we have created the realtime created\n",
    "changing data will be pushed__\n",
    "\n",
    "\n",
    "\n",
    "__while creating a push api in powerbi it gives an option  ( HISTORICAL DATA ANALYSIS  ) checkbox -  this saves all the previous data for analysis__"
   ]
  },
  {
   "cell_type": "code",
   "execution_count": 1,
   "id": "fb30ab64",
   "metadata": {},
   "outputs": [],
   "source": []
  },
  {
   "cell_type": "code",
   "execution_count": null,
   "id": "69e45d0f",
   "metadata": {},
   "outputs": [],
   "source": [
    "\n"
   ]
  },
  {
   "cell_type": "code",
   "execution_count": null,
   "id": "c65bef0a",
   "metadata": {},
   "outputs": [],
   "source": []
  },
  {
   "cell_type": "code",
   "execution_count": null,
   "id": "8ecddb87",
   "metadata": {},
   "outputs": [],
   "source": []
  },
  {
   "cell_type": "code",
   "execution_count": null,
   "id": "88e3b789",
   "metadata": {},
   "outputs": [],
   "source": []
  }
 ],
 "metadata": {
  "kernelspec": {
   "display_name": "Python 3 (ipykernel)",
   "language": "python",
   "name": "python3"
  },
  "language_info": {
   "codemirror_mode": {
    "name": "ipython",
    "version": 3
   },
   "file_extension": ".py",
   "mimetype": "text/x-python",
   "name": "python",
   "nbconvert_exporter": "python",
   "pygments_lexer": "ipython3",
   "version": "3.9.7"
  }
 },
 "nbformat": 4,
 "nbformat_minor": 5
}
