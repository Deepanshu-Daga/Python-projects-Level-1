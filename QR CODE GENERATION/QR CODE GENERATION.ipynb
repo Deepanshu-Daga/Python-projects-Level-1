{
 "cells": [
  {
   "cell_type": "code",
   "execution_count": 2,
   "id": "63840421",
   "metadata": {},
   "outputs": [
    {
     "name": "stdout",
     "output_type": "stream",
     "text": [
      "Collecting pyqrcode\n",
      "  Downloading PyQRCode-1.2.1.zip (41 kB)\n",
      "Building wheels for collected packages: pyqrcode\n",
      "  Building wheel for pyqrcode (setup.py): started\n",
      "  Building wheel for pyqrcode (setup.py): finished with status 'done'\n",
      "  Created wheel for pyqrcode: filename=PyQRCode-1.2.1-py3-none-any.whl size=36245 sha256=e0860bcc105b326de538a6544857ad5fc975c842a953bea4dd529f4443473fc7\n",
      "  Stored in directory: c:\\users\\deepa\\appdata\\local\\pip\\cache\\wheels\\da\\75\\c0\\38c7f82750de2725429b6b8571dca254249d73f6c882c5d9b1\n",
      "Successfully built pyqrcode\n",
      "Installing collected packages: pyqrcode\n",
      "Successfully installed pyqrcode-1.2.1\n"
     ]
    }
   ],
   "source": [
    "!pip install pyqrcode     # this will insall pyqrcode module in your system to be used in further functionalty\n"
   ]
  },
  {
   "cell_type": "code",
   "execution_count": 3,
   "id": "df9c457e",
   "metadata": {},
   "outputs": [],
   "source": [
    "# importing module\n",
    "# importing functionality from module\n",
    "\n",
    "import pyqrcode \n",
    "from pyqrcode import QRCode"
   ]
  },
  {
   "cell_type": "code",
   "execution_count": 4,
   "id": "158785a0",
   "metadata": {},
   "outputs": [],
   "source": [
    "# the location or site or page you want to reach via a QR code\n",
    "\n",
    "s = \"https://www.linkedin.com/in/deepanshu-daga-29baa4140?lipi=urn%3Ali%3Apage%3Ad_flagship3_profile_view_base_contact_details%3B2M9wqeZRQ%2BSf12iLUxbqDw%3D%3D\"\n"
   ]
  },
  {
   "cell_type": "code",
   "execution_count": 5,
   "id": "e63a125f",
   "metadata": {},
   "outputs": [],
   "source": [
    "# now you generate QR code \n",
    "\n",
    "my_url = pyqrcode.create(s)"
   ]
  },
  {
   "cell_type": "code",
   "execution_count": 13,
   "id": "ebe2e4dc",
   "metadata": {},
   "outputs": [],
   "source": [
    "# create and save the code as png for further use.\n",
    "\n",
    "my_url.svg(\"code.svg\", scale= 5,module_color=\"blue\")"
   ]
  },
  {
   "cell_type": "code",
   "execution_count": null,
   "id": "bfbb4026",
   "metadata": {},
   "outputs": [],
   "source": []
  },
  {
   "cell_type": "code",
   "execution_count": null,
   "id": "36eb4fa6",
   "metadata": {},
   "outputs": [],
   "source": []
  },
  {
   "cell_type": "code",
   "execution_count": null,
   "id": "c9f546a3",
   "metadata": {},
   "outputs": [],
   "source": [
    "\n",
    "\n",
    "\n",
    "\n"
   ]
  }
 ],
 "metadata": {
  "kernelspec": {
   "display_name": "Python 3 (ipykernel)",
   "language": "python",
   "name": "python3"
  },
  "language_info": {
   "codemirror_mode": {
    "name": "ipython",
    "version": 3
   },
   "file_extension": ".py",
   "mimetype": "text/x-python",
   "name": "python",
   "nbconvert_exporter": "python",
   "pygments_lexer": "ipython3",
   "version": "3.9.7"
  }
 },
 "nbformat": 4,
 "nbformat_minor": 5
}
